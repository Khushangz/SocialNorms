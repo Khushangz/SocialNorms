{
  "nbformat": 4,
  "nbformat_minor": 0,
  "metadata": {
    "colab": {
      "provenance": []
    },
    "kernelspec": {
      "name": "python3",
      "display_name": "Python 3"
    },
    "language_info": {
      "name": "python"
    }
  },
  "cells": [
    {
      "cell_type": "code",
      "source": [
        "pip install requests"
      ],
      "metadata": {
        "id": "b3QrG-49RLjh"
      },
      "execution_count": null,
      "outputs": []
    },
    {
      "cell_type": "markdown",
      "source": [
        "Have used the webpages from 0 to 385 to build the Bollywood Database from Bollynook.com"
      ],
      "metadata": {
        "id": "BcvlPU2QVoBj"
      }
    },
    {
      "cell_type": "code",
      "execution_count": null,
      "metadata": {
        "id": "_NIVHsU5RHGi"
      },
      "outputs": [],
      "source": [
        "import requests\n",
        "from bs4 import BeautifulSoup\n",
        "all_names=[]\n",
        "# URL of the OpenSubtitles.org page with English subtitles for movies\n",
        "\n",
        "with open(\"/content/drive/MyDrive/bollywood_database/name.txt\",\"w\") as g:\n",
        "  q=0\n",
        "with open(\"/content/drive/MyDrive/bollywood_database/years.txt\",\"w\") as g:\n",
        "  q=0\n",
        "with open(\"/content/drive/MyDrive/bollywood_database/link.txt\",\"w\") as g:\n",
        "  q=0\n",
        "# Send a GET request to the URL\n",
        "for page in range(0,385):\n",
        "  if page==0:\n",
        "    url = \"https://www.bollynook.com/en/bollywood-movie-subtitles/\"\n",
        "  else:\n",
        "    url=\"https://www.bollynook.com/en/bollywood-movie-subtitles/1/\"+str(page+1)\n",
        "  response = requests.get(url)\n",
        "  # Create a BeautifulSoup object from the response content\n",
        "  soup = BeautifulSoup(response.content, 'lxml')\n",
        "  soup=soup.find(\"div\",class_=\"paddingContent\")\n",
        "  language=soup.find_all('a',class_=\"lang-tooltip\")\n",
        "  link=soup.find_all('a',class_=\"btn btn-mini btn-danger\")\n",
        "  names=[]\n",
        "  web_links=[]\n",
        "  years=[]\n",
        "  download_links=[]\n",
        "  for i in range(len(language)):\n",
        "    if language[i][\"data-original-title\"]==\"English\":\n",
        "      download_link=\"https://www.bollynook.com\"+link[i][\"href\"]\n",
        "      name=download_link.split('/')\n",
        "      name=name[-2]\n",
        "      if name not in all_names and \"series\" not in name and \"quantico\" not in name:\n",
        "        all_names.append(name)\n",
        "        names.append(name)\n",
        "        web_links.append(download_link)\n",
        "  for i in web_links:\n",
        "    response = requests.get(i)\n",
        "    soup = BeautifulSoup(response.content, 'lxml')\n",
        "    download_link=soup.find('a',class_=\"btn btn-info downloads\")\n",
        "    download_link=download_link['href']\n",
        "    download_link=\"https://www.bollynook.com\"+download_link\n",
        "    download_links.append(download_link)\n",
        "    info=soup.find(class_=\"other-info\")\n",
        "    info=info.find_all('li')\n",
        "    years.append(info[4].text)\n",
        "  for i in range(len(download_links)):\n",
        "      with open(\"/content/drive/MyDrive/bollywood_database/name.txt\",\"a\") as g:\n",
        "        g.write(names[i])\n",
        "        g.write(\"\\n\")\n",
        "      with open(\"/content/drive/MyDrive/bollywood_database/link.txt\",\"a\") as f:\n",
        "        f.write(download_links[i])\n",
        "        f.write(\"\\n\")\n",
        "      with open(\"/content/drive/MyDrive/bollywood_database/years.txt\",\"a\") as h:\n",
        "        h.write(years[i])\n",
        "        h.write(\"\\n\")\n",
        "      url = download_links[i]\n",
        "      r = requests.get(url, allow_redirects=True)\n",
        "      f=str(download_links[i])\n",
        "      f=f.replace(\"https://www.bollynook.com/uploaded_pictures/content/\",\"\")\n",
        "      f=f.replace(\"\\n\",\"\")\n",
        "      f=f.replace(\".zip\",\"\")\n",
        "      f=f.replace(\"titlovi/\",\"\")\n",
        "      name= \"/content/drive/MyDrive/bollywood_database/zip/\"+f+\".zip\"\n",
        "      file_name = name\n",
        "      open(name, 'wb').write(r.content)\n",
        "\n",
        "\n",
        "\n",
        "\n",
        "\n",
        "# Find all the <a> tags with class \"bnone\" and extract the href attribut\n",
        "\n",
        "# https://www.bollynook.com/uploaded_pictures/content/titlovi/23003-bhediya-CD1-2022-srb.zip"
      ]
    },
    {
      "cell_type": "markdown",
      "source": [
        "Note: Manually Extract the zip files to SRT then use this read function."
      ],
      "metadata": {
        "id": "93xxfjbVVehM"
      }
    },
    {
      "cell_type": "code",
      "source": [
        "def read(file_path):\n",
        "  l=[]\n",
        "  try:\n",
        "    with open(file_path,\"r\") as f:\n",
        "      l=f.readlines()\n",
        "  except:\n",
        "    try:\n",
        "      with open(file_path,\"r\",encoding=\"utf-8\") as f:\n",
        "        l=f.readlines()\n",
        "    except:\n",
        "      try:\n",
        "        with open(file_path,\"r\",encoding=\"ascii\") as f:\n",
        "          l=f.readlines()\n",
        "      except:\n",
        "        try:\n",
        "          with open(file_path,\"r\",encoding=\"SHIFT_JIS\") as f:\n",
        "            l=f.readlines()\n",
        "        except:\n",
        "          try:\n",
        "            with open(file_path,\"r\",encoding=\"windows-1253\") as f:\n",
        "              l=f.readlines()\n",
        "          except:\n",
        "            try:\n",
        "              with open(file_path,\"r\",encoding=\"UTF-8-SIG\") as f:\n",
        "                l=f.readlines()\n",
        "            except:\n",
        "              try:\n",
        "                with open(file_path,\"r\",encoding=\" TIS-620\") as f:\n",
        "                    l=f.readlines()\n",
        "              except:\n",
        "                q=0\n",
        "\n",
        "  return l\n"
      ],
      "metadata": {
        "id": "Tk_cm6WARQGA"
      },
      "execution_count": 3,
      "outputs": []
    }
  ]
}